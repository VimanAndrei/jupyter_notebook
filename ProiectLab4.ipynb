{
  "nbformat": 4,
  "nbformat_minor": 0,
  "metadata": {
    "colab": {
      "provenance": [],
      "authorship_tag": "ABX9TyM12kzKn6VtlLbUs+6PoC50",
      "include_colab_link": true
    },
    "kernelspec": {
      "name": "python3",
      "display_name": "Python 3"
    },
    "language_info": {
      "name": "python"
    }
  },
  "cells": [
    {
      "cell_type": "markdown",
      "metadata": {
        "id": "view-in-github",
        "colab_type": "text"
      },
      "source": [
        "<a href=\"https://colab.research.google.com/github/VimanAndrei/jupyter_notebook/blob/main/ProiectLab4.ipynb\" target=\"_parent\"><img src=\"https://colab.research.google.com/assets/colab-badge.svg\" alt=\"Open In Colab\"/></a>"
      ]
    },
    {
      "cell_type": "code",
      "execution_count": 1,
      "metadata": {
        "id": "zL_WR-fyTl0D"
      },
      "outputs": [],
      "source": [
        "from google.colab import drive"
      ]
    },
    {
      "cell_type": "code",
      "source": [
        "drive.mount('/content/drive')"
      ],
      "metadata": {
        "colab": {
          "base_uri": "https://localhost:8080/"
        },
        "id": "zeC60LgCUmN4",
        "outputId": "0483b517-f8bd-4c0e-ffc9-44a565fb3d3e"
      },
      "execution_count": 2,
      "outputs": [
        {
          "output_type": "stream",
          "name": "stdout",
          "text": [
            "Mounted at /content/drive\n"
          ]
        }
      ]
    },
    {
      "cell_type": "code",
      "source": [
        "import pandas as pd\n",
        "TITLE_COLUMN = 'TITLE' \n",
        "ABSTRACT_COLUMN = 'ABSTRACT'\n",
        "LABELS = ['Computer Science', 'Physics', 'Mathematics', 'Statistics', 'Quantitative Biology', 'Quantitative Finance']\n",
        "df = pd.read_csv('/content/drive/My Drive/Colab Notebooks/train.csv')"
      ],
      "metadata": {
        "id": "c-eE0YIhVEQv"
      },
      "execution_count": 3,
      "outputs": []
    },
    {
      "cell_type": "code",
      "source": [
        "df.head()"
      ],
      "metadata": {
        "colab": {
          "base_uri": "https://localhost:8080/",
          "height": 250
        },
        "id": "SLCgOxM_VIVC",
        "outputId": "77a6f8d4-ab70-4eca-c1d5-05ce5d74b27a"
      },
      "execution_count": 4,
      "outputs": [
        {
          "output_type": "execute_result",
          "data": {
            "text/plain": [
              "   ID                                              TITLE  \\\n",
              "0   1        Reconstructing Subject-Specific Effect Maps   \n",
              "1   2                 Rotation Invariance Neural Network   \n",
              "2   3  Spherical polyharmonics and Poisson kernels fo...   \n",
              "3   4  A finite element approximation for the stochas...   \n",
              "4   5  Comparative study of Discrete Wavelet Transfor...   \n",
              "\n",
              "                                            ABSTRACT  Computer Science  \\\n",
              "0    Predictive models allow subject-specific inf...                 1   \n",
              "1    Rotation invariance and translation invarian...                 1   \n",
              "2    We introduce and develop the notion of spher...                 0   \n",
              "3    The stochastic Landau--Lifshitz--Gilbert (LL...                 0   \n",
              "4    Fourier-transform infra-red (FTIR) spectra o...                 1   \n",
              "\n",
              "   Physics  Mathematics  Statistics  Quantitative Biology  \\\n",
              "0        0            0           0                     0   \n",
              "1        0            0           0                     0   \n",
              "2        0            1           0                     0   \n",
              "3        0            1           0                     0   \n",
              "4        0            0           1                     0   \n",
              "\n",
              "   Quantitative Finance  \n",
              "0                     0  \n",
              "1                     0  \n",
              "2                     0  \n",
              "3                     0  \n",
              "4                     0  "
            ],
            "text/html": [
              "\n",
              "  <div id=\"df-fcdbf5ab-6558-42cc-8e97-68de1130d708\">\n",
              "    <div class=\"colab-df-container\">\n",
              "      <div>\n",
              "<style scoped>\n",
              "    .dataframe tbody tr th:only-of-type {\n",
              "        vertical-align: middle;\n",
              "    }\n",
              "\n",
              "    .dataframe tbody tr th {\n",
              "        vertical-align: top;\n",
              "    }\n",
              "\n",
              "    .dataframe thead th {\n",
              "        text-align: right;\n",
              "    }\n",
              "</style>\n",
              "<table border=\"1\" class=\"dataframe\">\n",
              "  <thead>\n",
              "    <tr style=\"text-align: right;\">\n",
              "      <th></th>\n",
              "      <th>ID</th>\n",
              "      <th>TITLE</th>\n",
              "      <th>ABSTRACT</th>\n",
              "      <th>Computer Science</th>\n",
              "      <th>Physics</th>\n",
              "      <th>Mathematics</th>\n",
              "      <th>Statistics</th>\n",
              "      <th>Quantitative Biology</th>\n",
              "      <th>Quantitative Finance</th>\n",
              "    </tr>\n",
              "  </thead>\n",
              "  <tbody>\n",
              "    <tr>\n",
              "      <th>0</th>\n",
              "      <td>1</td>\n",
              "      <td>Reconstructing Subject-Specific Effect Maps</td>\n",
              "      <td>Predictive models allow subject-specific inf...</td>\n",
              "      <td>1</td>\n",
              "      <td>0</td>\n",
              "      <td>0</td>\n",
              "      <td>0</td>\n",
              "      <td>0</td>\n",
              "      <td>0</td>\n",
              "    </tr>\n",
              "    <tr>\n",
              "      <th>1</th>\n",
              "      <td>2</td>\n",
              "      <td>Rotation Invariance Neural Network</td>\n",
              "      <td>Rotation invariance and translation invarian...</td>\n",
              "      <td>1</td>\n",
              "      <td>0</td>\n",
              "      <td>0</td>\n",
              "      <td>0</td>\n",
              "      <td>0</td>\n",
              "      <td>0</td>\n",
              "    </tr>\n",
              "    <tr>\n",
              "      <th>2</th>\n",
              "      <td>3</td>\n",
              "      <td>Spherical polyharmonics and Poisson kernels fo...</td>\n",
              "      <td>We introduce and develop the notion of spher...</td>\n",
              "      <td>0</td>\n",
              "      <td>0</td>\n",
              "      <td>1</td>\n",
              "      <td>0</td>\n",
              "      <td>0</td>\n",
              "      <td>0</td>\n",
              "    </tr>\n",
              "    <tr>\n",
              "      <th>3</th>\n",
              "      <td>4</td>\n",
              "      <td>A finite element approximation for the stochas...</td>\n",
              "      <td>The stochastic Landau--Lifshitz--Gilbert (LL...</td>\n",
              "      <td>0</td>\n",
              "      <td>0</td>\n",
              "      <td>1</td>\n",
              "      <td>0</td>\n",
              "      <td>0</td>\n",
              "      <td>0</td>\n",
              "    </tr>\n",
              "    <tr>\n",
              "      <th>4</th>\n",
              "      <td>5</td>\n",
              "      <td>Comparative study of Discrete Wavelet Transfor...</td>\n",
              "      <td>Fourier-transform infra-red (FTIR) spectra o...</td>\n",
              "      <td>1</td>\n",
              "      <td>0</td>\n",
              "      <td>0</td>\n",
              "      <td>1</td>\n",
              "      <td>0</td>\n",
              "      <td>0</td>\n",
              "    </tr>\n",
              "  </tbody>\n",
              "</table>\n",
              "</div>\n",
              "      <button class=\"colab-df-convert\" onclick=\"convertToInteractive('df-fcdbf5ab-6558-42cc-8e97-68de1130d708')\"\n",
              "              title=\"Convert this dataframe to an interactive table.\"\n",
              "              style=\"display:none;\">\n",
              "        \n",
              "  <svg xmlns=\"http://www.w3.org/2000/svg\" height=\"24px\"viewBox=\"0 0 24 24\"\n",
              "       width=\"24px\">\n",
              "    <path d=\"M0 0h24v24H0V0z\" fill=\"none\"/>\n",
              "    <path d=\"M18.56 5.44l.94 2.06.94-2.06 2.06-.94-2.06-.94-.94-2.06-.94 2.06-2.06.94zm-11 1L8.5 8.5l.94-2.06 2.06-.94-2.06-.94L8.5 2.5l-.94 2.06-2.06.94zm10 10l.94 2.06.94-2.06 2.06-.94-2.06-.94-.94-2.06-.94 2.06-2.06.94z\"/><path d=\"M17.41 7.96l-1.37-1.37c-.4-.4-.92-.59-1.43-.59-.52 0-1.04.2-1.43.59L10.3 9.45l-7.72 7.72c-.78.78-.78 2.05 0 2.83L4 21.41c.39.39.9.59 1.41.59.51 0 1.02-.2 1.41-.59l7.78-7.78 2.81-2.81c.8-.78.8-2.07 0-2.86zM5.41 20L4 18.59l7.72-7.72 1.47 1.35L5.41 20z\"/>\n",
              "  </svg>\n",
              "      </button>\n",
              "      \n",
              "  <style>\n",
              "    .colab-df-container {\n",
              "      display:flex;\n",
              "      flex-wrap:wrap;\n",
              "      gap: 12px;\n",
              "    }\n",
              "\n",
              "    .colab-df-convert {\n",
              "      background-color: #E8F0FE;\n",
              "      border: none;\n",
              "      border-radius: 50%;\n",
              "      cursor: pointer;\n",
              "      display: none;\n",
              "      fill: #1967D2;\n",
              "      height: 32px;\n",
              "      padding: 0 0 0 0;\n",
              "      width: 32px;\n",
              "    }\n",
              "\n",
              "    .colab-df-convert:hover {\n",
              "      background-color: #E2EBFA;\n",
              "      box-shadow: 0px 1px 2px rgba(60, 64, 67, 0.3), 0px 1px 3px 1px rgba(60, 64, 67, 0.15);\n",
              "      fill: #174EA6;\n",
              "    }\n",
              "\n",
              "    [theme=dark] .colab-df-convert {\n",
              "      background-color: #3B4455;\n",
              "      fill: #D2E3FC;\n",
              "    }\n",
              "\n",
              "    [theme=dark] .colab-df-convert:hover {\n",
              "      background-color: #434B5C;\n",
              "      box-shadow: 0px 1px 3px 1px rgba(0, 0, 0, 0.15);\n",
              "      filter: drop-shadow(0px 1px 2px rgba(0, 0, 0, 0.3));\n",
              "      fill: #FFFFFF;\n",
              "    }\n",
              "  </style>\n",
              "\n",
              "      <script>\n",
              "        const buttonEl =\n",
              "          document.querySelector('#df-fcdbf5ab-6558-42cc-8e97-68de1130d708 button.colab-df-convert');\n",
              "        buttonEl.style.display =\n",
              "          google.colab.kernel.accessAllowed ? 'block' : 'none';\n",
              "\n",
              "        async function convertToInteractive(key) {\n",
              "          const element = document.querySelector('#df-fcdbf5ab-6558-42cc-8e97-68de1130d708');\n",
              "          const dataTable =\n",
              "            await google.colab.kernel.invokeFunction('convertToInteractive',\n",
              "                                                     [key], {});\n",
              "          if (!dataTable) return;\n",
              "\n",
              "          const docLinkHtml = 'Like what you see? Visit the ' +\n",
              "            '<a target=\"_blank\" href=https://colab.research.google.com/notebooks/data_table.ipynb>data table notebook</a>'\n",
              "            + ' to learn more about interactive tables.';\n",
              "          element.innerHTML = '';\n",
              "          dataTable['output_type'] = 'display_data';\n",
              "          await google.colab.output.renderOutput(dataTable, element);\n",
              "          const docLink = document.createElement('div');\n",
              "          docLink.innerHTML = docLinkHtml;\n",
              "          element.appendChild(docLink);\n",
              "        }\n",
              "      </script>\n",
              "    </div>\n",
              "  </div>\n",
              "  "
            ]
          },
          "metadata": {},
          "execution_count": 4
        }
      ]
    },
    {
      "cell_type": "code",
      "source": [
        "def append_column(row):\n",
        "    for label in LABELS:\n",
        "      if (row[label] == 1) :\n",
        "        return label \n",
        "\n",
        "    return 'Other' "
      ],
      "metadata": {
        "id": "tbbr4wlWVNW_"
      },
      "execution_count": 5,
      "outputs": []
    },
    {
      "cell_type": "code",
      "source": [
        "df['class'] = df.apply (append_column, axis = 1) "
      ],
      "metadata": {
        "id": "7uvob920VRET"
      },
      "execution_count": 6,
      "outputs": []
    },
    {
      "cell_type": "code",
      "source": [
        "df['info'] = df['TITLE'] + ' ' + df['ABSTRACT'] \n",
        "print(df['class'].value_counts()) "
      ],
      "metadata": {
        "colab": {
          "base_uri": "https://localhost:8080/"
        },
        "id": "gx3QhaVeVUXc",
        "outputId": "2202c483-b7a2-4dce-bb6e-ca3c584446ef"
      },
      "execution_count": 7,
      "outputs": [
        {
          "output_type": "stream",
          "name": "stdout",
          "text": [
            "Computer Science        8594\n",
            "Physics                 5521\n",
            "Mathematics             4436\n",
            "Statistics              1765\n",
            "Quantitative Biology     447\n",
            "Quantitative Finance     209\n",
            "Name: class, dtype: int64\n"
          ]
        }
      ]
    },
    {
      "cell_type": "code",
      "source": [
        "from gensim.models import KeyedVectors \n",
        "\n",
        "vecs = KeyedVectors.load_word2vec_format('/content/drive/My Drive/wiki.en.vec', binary=False) "
      ],
      "metadata": {
        "id": "nf9D6O3SXAZX"
      },
      "execution_count": 8,
      "outputs": []
    },
    {
      "cell_type": "code",
      "source": [
        "vecs['happy']"
      ],
      "metadata": {
        "colab": {
          "base_uri": "https://localhost:8080/"
        },
        "id": "sU14KSLkZD-K",
        "outputId": "1c5f9815-4e5d-4f86-b632-654cae86691c"
      },
      "execution_count": 9,
      "outputs": [
        {
          "output_type": "execute_result",
          "data": {
            "text/plain": [
              "array([ 1.0414e-01, -1.1225e-01,  1.0320e-01, -9.8340e-02, -1.6582e-02,\n",
              "       -2.7703e-02, -1.1237e-01, -2.0355e-01,  1.4651e-01,  1.9396e-01,\n",
              "        3.1499e-01,  2.7403e-01, -2.4122e-01,  1.1594e-01,  1.2714e-01,\n",
              "       -3.0843e-01,  2.5571e-01, -1.1069e-02, -4.6800e-04, -4.1192e-02,\n",
              "        1.2088e-01,  1.6938e-01, -9.0993e-03,  6.2214e-02, -4.7545e-02,\n",
              "        4.6441e-02,  9.7371e-03,  3.8051e-03,  1.8297e-01, -1.6592e-01,\n",
              "       -2.6185e-01, -4.6906e-02, -1.8432e-01,  6.4871e-02, -1.0457e-01,\n",
              "       -7.8682e-02,  3.9007e-03, -2.1231e-01, -3.3609e-01, -3.2362e-01,\n",
              "        2.5630e-01,  1.0201e-01, -8.7765e-02, -1.3310e-02,  9.2082e-02,\n",
              "        3.3894e-01,  2.4984e-01,  4.7606e-02, -3.6602e-01, -4.1825e-02,\n",
              "       -1.9810e-02, -2.0017e-01,  3.2182e-02, -1.2725e-01,  2.0395e-01,\n",
              "        4.9708e-01,  8.6663e-02,  3.4563e-02,  3.8479e-03,  3.2351e-02,\n",
              "        7.3302e-02,  5.2856e-02, -6.7490e-02, -3.9720e-02,  6.1742e-02,\n",
              "       -3.9526e-01, -7.4233e-02,  1.5067e-01, -3.3989e-01, -1.1243e-01,\n",
              "        3.1522e-01,  1.2831e-01,  1.0018e-01, -3.0749e-01, -8.3433e-03,\n",
              "        3.7268e-01,  2.9027e-01,  6.1021e-02,  1.2598e-01,  3.2537e-01,\n",
              "       -2.5686e-01, -1.7812e-01, -1.4797e-01,  2.6673e-01, -1.2014e-01,\n",
              "        4.2959e-01,  3.1161e-02, -2.4022e-02, -2.5606e-01, -5.2706e-02,\n",
              "        2.2573e-01, -1.0758e-01,  2.6619e-01,  1.3538e-01,  9.5127e-02,\n",
              "        4.4814e-01,  2.3867e-01, -1.8181e-01, -4.8096e-02, -8.7823e-02,\n",
              "        5.0196e-01,  1.1009e-01, -2.2819e-01, -1.6735e-01, -2.4455e-01,\n",
              "       -4.9234e-02, -2.1234e-01,  1.6904e-01,  1.0834e-01, -1.1010e-02,\n",
              "        7.5228e-02, -1.4210e-01, -2.8701e-01,  1.4785e-01, -1.9459e-03,\n",
              "       -4.5111e-01,  2.1607e-01, -6.2338e-02, -1.9635e-01,  2.3397e-01,\n",
              "        4.6447e-01, -2.6890e-01, -2.4185e-01,  3.4716e-01,  2.2326e-01,\n",
              "       -2.7528e-03,  2.7369e-01, -4.6604e-02,  1.1223e-01,  3.6473e-02,\n",
              "       -2.6855e-01,  6.9994e-01, -8.3047e-02, -6.5998e-03,  2.3929e-01,\n",
              "       -1.4790e-01, -1.0521e-01,  3.5589e-01,  8.4214e-02, -9.9245e-03,\n",
              "       -8.3399e-02, -2.2288e-02, -9.9382e-02,  2.1611e-02,  3.0605e-02,\n",
              "        2.5685e-01, -5.3542e-02, -8.1730e-02,  1.8870e-02, -1.3933e-01,\n",
              "        2.3264e-01,  2.2261e-01, -1.6027e-02, -2.2565e-01,  2.6440e-02,\n",
              "        4.9083e-02, -2.0422e-01, -2.6709e-01,  1.3032e-01,  4.1833e-01,\n",
              "        4.6484e-01,  1.0721e-01, -6.3571e-02,  9.9173e-02, -3.5455e-01,\n",
              "        1.4600e-01, -7.7558e-02,  5.7179e-02,  3.5739e-01,  1.0617e-01,\n",
              "       -1.2263e-01, -2.4369e-01, -4.3010e-01, -2.3227e-02,  1.3499e-02,\n",
              "        1.0038e-01,  4.7319e-02,  2.1580e-01,  1.3158e-01, -1.0978e-01,\n",
              "       -3.9948e-02, -5.8534e-01, -5.9159e-02, -2.5857e-01, -4.5086e-02,\n",
              "        1.0627e-01, -1.5038e-01, -3.1713e-01,  3.4311e-01,  1.5206e-01,\n",
              "       -4.3374e-03, -5.2755e-01,  1.1917e-01,  3.6463e-01, -2.6497e-01,\n",
              "       -2.8298e-01, -7.8579e-02,  4.4295e-03, -4.0790e-01, -1.9331e-01,\n",
              "        2.7069e-01,  2.0463e-01,  1.9559e-01, -3.1180e-02,  9.6711e-03,\n",
              "        7.9617e-02, -4.7328e-01,  3.5480e-02,  1.1017e-01,  2.6797e-01,\n",
              "        5.0277e-01, -4.5099e-02,  2.0271e-01, -3.5490e-01, -4.4903e-01,\n",
              "       -3.9758e-01, -6.6067e-02, -2.6587e-01, -2.0589e-01, -2.3345e-01,\n",
              "        4.3328e-02,  2.6988e-02, -4.3760e-02, -7.9704e-02, -1.3919e-01,\n",
              "        1.7745e-01, -5.3650e-02,  7.9567e-02, -1.2341e-01,  2.8801e-02,\n",
              "        1.0519e-01,  2.6589e-01,  1.3269e-01, -1.3240e-01, -1.4395e-02,\n",
              "        2.5781e-01,  8.2767e-02,  2.6619e-02,  1.1706e-01, -2.0442e-01,\n",
              "       -6.0242e-02,  4.1361e-02,  2.8001e-02,  2.6039e-01, -1.3469e-01,\n",
              "        1.3353e-01,  2.2876e-01,  1.6260e-01,  2.5509e-01,  2.7667e-01,\n",
              "        9.9287e-02, -3.3117e-01, -1.7779e-01, -2.2889e-01,  8.9147e-02,\n",
              "       -9.1887e-02, -1.8891e-02, -2.2000e-01,  2.2194e-01,  1.2746e-01,\n",
              "        1.1039e-01,  1.4825e-01,  2.4584e-01,  1.0171e-01, -8.3505e-02,\n",
              "       -2.2644e-01,  4.5015e-02,  2.6836e-01, -2.8183e-01, -2.8023e-01,\n",
              "        3.0281e-02, -3.1439e-01,  3.1360e-01,  2.7483e-01,  3.7389e-02,\n",
              "       -1.3154e-01, -7.8343e-02,  5.1350e-02,  8.4351e-02, -7.6211e-02,\n",
              "        1.6105e-01,  2.0491e-01,  2.8246e-02, -1.4851e-01,  9.1175e-02,\n",
              "       -3.4266e-02,  8.5373e-02,  2.2683e-01,  1.9873e-01, -2.9076e-01,\n",
              "        1.1569e-01, -1.6816e-01, -2.9085e-01, -3.0765e-01,  1.6951e-01,\n",
              "       -1.2554e-01, -8.6907e-02,  1.3954e-01,  4.2223e-01, -5.7795e-03],\n",
              "      dtype=float32)"
            ]
          },
          "metadata": {},
          "execution_count": 9
        }
      ]
    },
    {
      "cell_type": "code",
      "source": [
        "vecs.most_similar(['bad'])"
      ],
      "metadata": {
        "colab": {
          "base_uri": "https://localhost:8080/"
        },
        "id": "ZEZ2DFybZPkH",
        "outputId": "69205508-efea-4421-936a-623a191b9a3f"
      },
      "execution_count": 10,
      "outputs": [
        {
          "output_type": "execute_result",
          "data": {
            "text/plain": [
              "[('good', 0.6704171895980835),\n",
              " ('nasty', 0.6049038171768188),\n",
              " ('lousy', 0.5805090665817261),\n",
              " ('awful', 0.5742742419242859),\n",
              " ('stupid', 0.569383978843689),\n",
              " ('ugly', 0.5677497386932373),\n",
              " ('terrible', 0.5668403506278992),\n",
              " ('nauheim', 0.5635201930999756),\n",
              " ('vilbel', 0.5594322681427002),\n",
              " ('horrible', 0.5587475299835205)]"
            ]
          },
          "metadata": {},
          "execution_count": 10
        }
      ]
    },
    {
      "cell_type": "code",
      "source": [
        "vecs.most_similar(positive=['king', 'woman'], negative=['man'])"
      ],
      "metadata": {
        "colab": {
          "base_uri": "https://localhost:8080/"
        },
        "id": "XJOJKOZDZbs4",
        "outputId": "286f373a-35df-4bf8-dc7f-65f7f2265c5b"
      },
      "execution_count": 11,
      "outputs": [
        {
          "output_type": "execute_result",
          "data": {
            "text/plain": [
              "[('queen', 0.6606323719024658),\n",
              " ('princess', 0.582402765750885),\n",
              " ('regnant', 0.5788114666938782),\n",
              " ('princesses', 0.5610354542732239),\n",
              " ('consort', 0.5389299392700195),\n",
              " ('regnants', 0.5266367793083191),\n",
              " ('queenmother', 0.5214954614639282),\n",
              " ('monarch', 0.505949854850769),\n",
              " ('‘princess', 0.5048949718475342),\n",
              " ('parmaprincess', 0.5012948513031006)]"
            ]
          },
          "metadata": {},
          "execution_count": 11
        }
      ]
    },
    {
      "cell_type": "code",
      "source": [
        "from sklearn import preprocessing"
      ],
      "metadata": {
        "id": "5hf-U_aKaxG4"
      },
      "execution_count": 12,
      "outputs": []
    },
    {
      "cell_type": "code",
      "source": [
        "le = preprocessing.LabelEncoder()"
      ],
      "metadata": {
        "id": "QABh76W0azek"
      },
      "execution_count": 13,
      "outputs": []
    },
    {
      "cell_type": "code",
      "source": [
        "le.fit(df['class'])"
      ],
      "metadata": {
        "colab": {
          "base_uri": "https://localhost:8080/"
        },
        "id": "3IQThme2a2Iz",
        "outputId": "1d4bbacd-9050-4b1f-b627-d180500d8056"
      },
      "execution_count": 14,
      "outputs": [
        {
          "output_type": "execute_result",
          "data": {
            "text/plain": [
              "LabelEncoder()"
            ]
          },
          "metadata": {},
          "execution_count": 14
        }
      ]
    },
    {
      "cell_type": "code",
      "source": [
        "le.classes_"
      ],
      "metadata": {
        "id": "_EdG3UPHbEl0",
        "colab": {
          "base_uri": "https://localhost:8080/"
        },
        "outputId": "f0214ed8-8f16-4adb-8fd7-ca017a85d590"
      },
      "execution_count": 15,
      "outputs": [
        {
          "output_type": "execute_result",
          "data": {
            "text/plain": [
              "array(['Computer Science', 'Mathematics', 'Physics',\n",
              "       'Quantitative Biology', 'Quantitative Finance', 'Statistics'],\n",
              "      dtype=object)"
            ]
          },
          "metadata": {},
          "execution_count": 15
        }
      ]
    },
    {
      "cell_type": "code",
      "source": [
        "y=le.transform(df['class'])\n",
        "print(y)"
      ],
      "metadata": {
        "colab": {
          "base_uri": "https://localhost:8080/"
        },
        "id": "ytsa8rb9bF6R",
        "outputId": "4f05b2bf-c95a-4864-e742-67e2908f893b"
      },
      "execution_count": 16,
      "outputs": [
        {
          "output_type": "stream",
          "name": "stdout",
          "text": [
            "[0 0 1 ... 0 1 1]\n"
          ]
        }
      ]
    },
    {
      "cell_type": "code",
      "source": [
        "initial_x = df['info']\n",
        "import nltk\n",
        "\n",
        "nltk.download('punkt') \n",
        "from nltk.tokenize import word_tokenize \n",
        "\n",
        "def my_tokenizer(sentence):\n",
        "  return word_tokenize(sentence.lower(), language=\"english\") \n",
        "\n",
        "tokenize_x = [my_tokenizer(x) for x in df['info']]\n"
      ],
      "metadata": {
        "colab": {
          "base_uri": "https://localhost:8080/"
        },
        "id": "vvtJlFh5dQdI",
        "outputId": "a0c2ce46-d098-4c77-9760-031ce586092c"
      },
      "execution_count": 20,
      "outputs": [
        {
          "output_type": "stream",
          "name": "stderr",
          "text": [
            "[nltk_data] Downloading package punkt to /root/nltk_data...\n",
            "[nltk_data]   Unzipping tokenizers/punkt.zip.\n"
          ]
        }
      ]
    },
    {
      "cell_type": "code",
      "source": [
        "def sum_tokenizer(prop):\n",
        "  sum = 0\n",
        "  for c in prop:\n",
        "    if c in  vecs.vocab:\n",
        "      sum += vecs[c]\n",
        "  return sum\n",
        "\n",
        "for i in tokenize_x:\n",
        "  sum_tokenizer(i)"
      ],
      "metadata": {
        "id": "MLHsrrbUfThS"
      },
      "execution_count": 21,
      "outputs": []
    },
    {
      "cell_type": "code",
      "source": [
        "X = [sum_tokenizer(x) for x in tokenize_x]"
      ],
      "metadata": {
        "id": "QVYlC9PKiE4r"
      },
      "execution_count": 23,
      "outputs": []
    },
    {
      "cell_type": "code",
      "source": [
        "from sklearn.model_selection import train_test_split\n",
        "X_train, X_test, Y_train, Y_test = train_test_split(X, y, test_size=0.2, stratify=y)"
      ],
      "metadata": {
        "id": "Pp9DaTe2iZUw"
      },
      "execution_count": 32,
      "outputs": []
    },
    {
      "cell_type": "code",
      "source": [
        "from sklearn.linear_model import LogisticRegression"
      ],
      "metadata": {
        "id": "tKRyKLH4hgI9"
      },
      "execution_count": 33,
      "outputs": []
    },
    {
      "cell_type": "code",
      "source": [
        "clf = LogisticRegression(max_iter=100).fit(X_train, Y_train)"
      ],
      "metadata": {
        "colab": {
          "base_uri": "https://localhost:8080/"
        },
        "id": "PFyTxT61hogY",
        "outputId": "2104f353-d0e2-4191-e13c-6c4047ba528a"
      },
      "execution_count": 34,
      "outputs": [
        {
          "output_type": "stream",
          "name": "stderr",
          "text": [
            "/usr/local/lib/python3.8/dist-packages/sklearn/linear_model/_logistic.py:814: ConvergenceWarning: lbfgs failed to converge (status=1):\n",
            "STOP: TOTAL NO. of ITERATIONS REACHED LIMIT.\n",
            "\n",
            "Increase the number of iterations (max_iter) or scale the data as shown in:\n",
            "    https://scikit-learn.org/stable/modules/preprocessing.html\n",
            "Please also refer to the documentation for alternative solver options:\n",
            "    https://scikit-learn.org/stable/modules/linear_model.html#logistic-regression\n",
            "  n_iter_i = _check_optimize_result(\n"
          ]
        }
      ]
    },
    {
      "cell_type": "code",
      "source": [
        "clf.score(X_test, Y_test)"
      ],
      "metadata": {
        "colab": {
          "base_uri": "https://localhost:8080/"
        },
        "id": "dqr5WQrwjoat",
        "outputId": "022cbc85-c3ad-408e-d12f-9228d49611b5"
      },
      "execution_count": 35,
      "outputs": [
        {
          "output_type": "execute_result",
          "data": {
            "text/plain": [
              "0.7933253873659118"
            ]
          },
          "metadata": {},
          "execution_count": 35
        }
      ]
    },
    {
      "cell_type": "code",
      "source": [],
      "metadata": {
        "id": "vHJQjIfXjtl6"
      },
      "execution_count": null,
      "outputs": []
    }
  ]
}