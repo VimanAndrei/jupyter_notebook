{
  "cells": [
    {
      "cell_type": "code",
      "execution_count": null,
      "metadata": {
        "id": "RyNxujyXm1IA"
      },
      "outputs": [],
      "source": [
        "import torch\n",
        "import torch.nn as nn\n",
        "import torch.optim as optim\n",
        "import torch.utils.data as data\n",
        "import math\n",
        "import copy"
      ]
    },
    {
      "cell_type": "markdown",
      "metadata": {
        "id": "AU2xk56oc6mM"
      },
      "source": [
        "**Multi-Head Attention, Position-wise Feed-Forward Networks, Positional Encoding**"
      ]
    },
    {
      "cell_type": "markdown",
      "metadata": {
        "id": "HJlsJrcbc_Da"
      },
      "source": [
        "***Multi-head Attention***"
      ]
    },
    {
      "cell_type": "code",
      "execution_count": null,
      "metadata": {
        "id": "Akw-1wseMUTc"
      },
      "outputs": [],
      "source": [
        "class MultiHeadAttention(nn.Module):\n",
        "    def __init__(self, d_model, num_heads):\n",
        "      # d_model: Dimensionality of the input.\n",
        "      # num_heads: The number of attention heads to split the input into.\n",
        "        super(MultiHeadAttention, self).__init__()\n",
        "        # Ensure that the model dimension (d_model) is divisible by the number of heads\n",
        "        assert d_model % num_heads == 0, \"d_model must be divisible by num_heads\"\n",
        "\n",
        "        # Initialize dimensions\n",
        "        self.d_model = d_model # Model's dimension\n",
        "        self.num_heads = num_heads # Number of attention heads\n",
        "        self.d_k = d_model // num_heads # Dimension of each head's key, query, and value\n",
        "\n",
        "        # Linear layers for transforming inputs\n",
        "        self.W_q = nn.Linear(d_model, d_model) # Query transformation\n",
        "        self.W_k = nn.Linear(d_model, d_model) # Key transformation\n",
        "        self.W_v = nn.Linear(d_model, d_model) # Value transformation\n",
        "        self.W_o = nn.Linear(d_model, d_model) # Output transformation\n",
        "\n",
        "    def scaled_dot_product_attention(self, Q, K, V, mask=None):\n",
        "        # Calculate attention scores\n",
        "        attn_scores = torch.matmul(Q, K.transpose(-2, -1)) / math.sqrt(self.d_k)\n",
        "\n",
        "        # Apply mask if provided (useful for preventing attention to certain parts like padding)\n",
        "        if mask is not None:\n",
        "            attn_scores = attn_scores.masked_fill(mask == 0, -1e9)\n",
        "\n",
        "        # Softmax is applied to obtain attention probabilities\n",
        "        attn_probs = torch.softmax(attn_scores, dim=-1)\n",
        "\n",
        "        # Multiply by values to obtain the final output\n",
        "        output = torch.matmul(attn_probs, V)\n",
        "        return output\n",
        "\n",
        "    def split_heads(self, x):\n",
        "        # Reshape the input to have num_heads for multi-head attention\n",
        "        batch_size, seq_length, d_model = x.size()\n",
        "        return x.view(batch_size, seq_length, self.num_heads, self.d_k).transpose(1, 2)\n",
        "\n",
        "    def combine_heads(self, x):\n",
        "        # Combine the multiple heads back to original shape\n",
        "        batch_size, _, seq_length, d_k = x.size()\n",
        "        return x.transpose(1, 2).contiguous().view(batch_size, seq_length, self.d_model)\n",
        "\n",
        "    def forward(self, Q, K, V, mask=None):\n",
        "        # Apply linear transformations and split heads\n",
        "        Q = self.split_heads(self.W_q(Q))\n",
        "        K = self.split_heads(self.W_k(K))\n",
        "        V = self.split_heads(self.W_v(V))\n",
        "\n",
        "        # Perform scaled dot-product attention\n",
        "        attn_output = self.scaled_dot_product_attention(Q, K, V, mask)\n",
        "\n",
        "        # Combine heads and apply output transformation\n",
        "        output = self.W_o(self.combine_heads(attn_output))\n",
        "        return output"
      ]
    },
    {
      "cell_type": "markdown",
      "metadata": {
        "id": "I-zsHFHGd-s8"
      },
      "source": [
        "***Position-wise Feed-Forward Networks***"
      ]
    },
    {
      "cell_type": "code",
      "execution_count": null,
      "metadata": {
        "id": "bbFgmP2neC_b"
      },
      "outputs": [],
      "source": [
        "class PositionWiseFeedForward(nn.Module):\n",
        "    def __init__(self, d_model, d_ff):\n",
        "        super(PositionWiseFeedForward, self).__init__()\n",
        "        self.fc1 = nn.Linear(d_model, d_ff)\n",
        "        self.fc2 = nn.Linear(d_ff, d_model)\n",
        "        self.relu = nn.ReLU()\n",
        "\n",
        "    def forward(self, x):\n",
        "        return self.fc2(self.relu(self.fc1(x)))"
      ]
    },
    {
      "cell_type": "markdown",
      "metadata": {
        "id": "d1WH_wUxedRX"
      },
      "source": [
        "***Positional Encoding***\n",
        "\n",
        "![image.png](data:image/png;base64,iVBORw0KGgoAAAANSUhEUgAAAQYAAAAgCAIAAAB/1UH0AAARU0lEQVR4Ae1cfVRUR5afP3dNjlDnRBw+xFUHIsaZyceM+eDoZkJMsntC9hBFgibxA+KgZhPMnDFGUTcojELQATUBjQpEaWmIfCmYKCIQRlHBbrrlqzEGUKBBummUfjS8Ometuq+L6tcNLkZYnPQ7HKn3VXXfrfu793dvFf4KOw+nBpwa4DTwK67tbDo14NQAdkLCaQTjoYGBzsbcLGVWfklj5yA3ntDdYbCeCme//a61T7SeYtFivlpZmqNIr2odYBfHoeGExDgo+Zc+hEmbixAKWb4EIeTq5n/BauImTTpCqL6PgMTSVuLq5g9tpi91/g5XN/86E48idnOsGk5IjJVmnf1aNSAcWfb6mRYLtfuKQPepf05Twy3RrD9dUNJjIZFBpQh/+pPvra9Iv2/kf+bx+kFBdnWMTx1AQjSbRQvmf8ZYhke4e4FM9CgOTVmpzjCGPk9zruDbc9pRCDT2j4r9+vPlTWycI0vnLkm5hDEWzeY+g6G9vZvcEo2xvjNTrnSyx27Wq9VaVfKqpxh+2K2f39CUlHaahxiarEM5JCwtJS9OeQLZHtMWLE0pqGJvimazYIsZwI/ZbGbP/BIalalrEEJZ6qGJHOmrRWPax7+fPD1iDGmAoAv2dPdZdpR3q3daNeU1XfaCdTXV5BxXKrOUl67dkt0VLcaq4oJMhTK76B/2pjNg+OlcflamQnm28ho/EHSiqyrLVCiV2acb2+/KuiWnon7jrOnH1L0Y45rCZITQn5IIPCxtJS5eoT/2E2ch9jV//sqssMRT+TvnIYQK6snDD/e4lLHWxSPoYrvjFEUOCTI21SxCKKGoBWPcUpkDINmc3UDu9hOJbSEzdDYn3GY+Hu6XTLTecjc/hxDaU0y0dN8j7/M/TJ4ecZ3y5vs+/GAPGKsINWfyDHQ2Ho0ORwiBV+b7vKSIRgit3JWh+OovCKGwpDPs7mC3Nszb08UjKDtPCQ1G/THGenUOQsg3JDZX+SVpvLO7s9/qbinm75lCYkbO3o/mIoS+Lm1l3ULjRuGmOR9kSRepmWVpicWrFOHPfFJArov6WN+ZrySVYYx7VOmTp0cATmT9DHcqmvXZSQnf2aKot+mHnVFJMs2rFAQVDt2TA0iY6kgy5OIVynKdiykRCCHe3MFBegbEtvaJogWbzebbrTVxIbMX048ZTuJ/susDnY0l56qBCo/8aT8Vf4EQyqfTP/KTP+duUfQ8Ns39ujwXj6B1ywMQQh9auTt03l66DyH0fBQ1QYwvJK1CCP2tgPo7apH3nHcpzYAHu6sC3ac+PmtDK7X7AX3Fi1OeeNxnK5x2VKbx/ZyOe4u5USwaE9/xQwh91zTELC0tJY/7bGUQ6lGlS5GBY021WRsZDKpTFkk4GY1SLiStSlWbbN4QjTtfC2HGLN0SjXte9ZVFVLjlABJX09bKAKBSfIoQ4t4XvgqdgxD6+HgNP3Z1yqJPCpr5K842cXx3tcGe7swEx0ongi7M25N3WySi6/LkkBCNOwN8mNFjjAdNWmL31Fg7Kg/yVo4xvphCALOT8oXzSStZm3wFtSqEUFnbwGB3FaCFWTyErHlbpIx5sLtq8exPAUuixWzsFUviXgCLJ6zJI4h6ceHQa36L99JMo59QrD3n9BjjVnV5fmHJqdTde9KKmzRle6K2n9YSKninVaNIOXgwLaellzCu1qpT6Qpl5AzvDOJ6hB8KspOSUrWEHQlfLVshhwTGUAf7sowMwR92kBCNYO5b8qnbwFikwiGENmdLAAAlIoROWn3A7ZvtAhGxAYTjB3j020K5YhdQw4DFi0PXHxMwvpR9KH7XjjWLZ4Kb0BR/m0hPn1mfhbFQkETYiOerCWAfdfk77jkUINCgjebSjHUr3w+a7/kfH3957tQh6Nw3JJbPvAdNP2UnbYNbLh5BmZWMhDiQB2MsY00wEAR8PkpY2ioQQszxk8esM36yyVIUHTgUMWgXPerjCKFn1meJ/fptv5khc/xAFjZnN0AYpJ8PIxOkBXu6g8sHg/lbXkWtWqVSVcaFvlPWdmf/wtmbjh1P3ld4OcPKmrBAku8DaoyFvXN8XN38T5zJOlygaT6fMMkvQW8y7F84OzKr5m5byb/O2ScIjW/6be0SRZPm+CS/hC5dLgCsMCrwmLr3QlLQlvwalXLdJL8EQTQ7hAQWyRdxjl6SXA4JiJU0yneJFvNNbfn2EF9QImNj4Es8A2K7RMIjxbvaF6a9PSrOJw0+Xr8gyoF5OfyXkQF7iSwtpxFC4O1Ox70FNcHbrQ1HP3+PxUldVVnCR68jhOKVRTsDfOau2Lb6372tzFNI+/j3Lh5BV7uHCk2i2XgpS4KZ7zu7a+pUSateQwh9cIA4SIyxqb6QON1ZG651DmLRmLSSxGQgMw7lwRgXRQfKRiH9UA7MQwKu2AYTITXstwQJ+Vpo8BktPE/009vATJxpCRT7fFQBNGxYA41aCKEzLbfByTLNU9sl1u/iFXqx7Xas78y9lZKr/i5xBSHtHkGHjhF291TY1z0W0aRJDyc4wdUpazK0/VjQhbyxv0uTLtVn+5uDvRd8m7w6jiZ11SlrUlVd+xfOzrx4rVZbd6O1e7gogTFWRD7t6uZ/UW+TZ8shAebOpAf59qQV84wZWKOrm//J8+fPFWb/5eUZL22XV5SZ1iZCoy4/PiD43fdXvDfczysh2xjgZQKbNJKbJIWRlvw3rUygMOqPfD0kN+pNUNraA5cxxqlhv3XxCiV9ivqdAT5Sm+sabGjy9AgTdSs9KpIZg8ca0F8JdJ/q4hXKUHQhKYiUtmgq4lgeR6zJISRgfmWuEYT579R/AKeCgSRhac8uXqHa5nKQilcUAMZn2dEz1JR57GEsIc2mN04DUOvHGPf12hQq+3pJPZO/LtRlrqJs6mraWgKJQd2yd7++q6947MkYor1BXeCTn1Z8EzY/vhJgk6o2HVk690gVqQQ2l5+53jd45N2V9cKQS2JSwIfLJJRDAkLnS9EFAk2aZeKSvmgdDSEUsGTd5s8+CprviRA6XGlfiBQunz7PA4nJ8QCNTm15pkJZYJvLihZjh6Fv5BrzA4wle4WxxL2UT5uhni3oImd4D9EPego2Tdh5D8lKwROLfY3Bnu52kJCSMZZ9gqWu2lvOCLqU71JpgMTDzDmUBxAFFUJefvsoAYmiDBJwMTb7+2BPd4Y96Ee8K2UadVdPQNHFBhLUXzwfdQLCiwwSEBxgkY6XarRtVdb2x56MabxVHxcye5Pisu7KCRev0Oq2u5VpG1bvylAkx6aXtYp9jZEzvMM+2/TilCdWxJ3s0pASEUn38zW9TT8Ee7qnl+rsx70/JFjaYJ9zsO4sLSWwLG/1YULsU0tU8iV34iFY7sHefbCGSkHS/XcXTb/HTB57MoYlcNXJ8yf5JdzWFb8wcw0/Tw5HMd/vcPgWXATGTDmAVD8BU2MZMyRqCKFLJhKCwb6lmjUtNcogAWbts3RoXbYk7r+AhgFxtSnXikaoejP82MvjkDU5jBIgqkNIfJBSAZbNe02oDbh4hdberrfHttTb0oOXaAFGBgnojU+iRlDyg90SLVJIgdclh0VPaCHUWiAepvf7Q6K/qQiYktXcHfQEyaJv6H6I+Li/+fC+QtmSzdXUcFZqcNDFqC4JOlapaLlIqn5swu60Xi6gK7U9V/a7v/GNTAZ+kBuFMeAzhvvXfncNvH6z4UfarZC56VmE0FtWfghula0AgI0yJg3E0uodiXdghUXoVn+FfAh7XjI7mm/wvAgeBvh5LNxnEkXH8gzDmkaAhMNcYneRzh4SMPrjPlv1PSSXkGEbTOql7d+D27KBhHV1C1IgfjomTvv+kKjN2kiiP+e97KSXCKLNx9OHTNrc+GwN7GPhFddnMNy6/qPRbCZL9Ndu8Ybbdb3+anWtvpdBWWiqUasbbrV39bFxBzo1lxvuSKdUy7TERghod2d7h0F6MiP8d1AoZC/yjebSjB274vcm7h3m54sdcUdY8OFeFBLmBIDjh2qmVTNECSSX7Wg79c1pgdbgWZYGkdZj4T79bc2umFMCxpB18JYBSwEM2wChTbSiDSbI0MLKQTTldSwPsCaHnw+98ZMFAcoGolxZFhaghka3RjwaDyWyxyffrCwLhSkeadKaBrcQwSl2ojQVkU/b1ySGcgmxXw8BGlIZx1Jboc/rhcCglWzngoRGpVw35LNFo/JzssTr6ub/xd9JLfLPaST7FPsaN/1pZljiqaqzZFUfltZz1j+7OPHk2Yy//svcAzxymCQD+gpYihItxoLE1QghGBGWP4eWRdkLP7PR3xw5wxvsw9JGVqmgZI5p5jDt5TX/86HfgvgymHtGRSB5mLZgabCnO5gp8Kgv2VIuNUFSj6IJX2XaBn79GLD3TCQp9WIsAFp2FzWSs2HkKYoOdHXzdxjYoTfexO2zXijLTvJLMIkiQIi3bMgtgUiDTx0CGM0qXd38K7sHMI1Uk6dHsPI/lGWD4sk69AQ9qPxs4piQVkjQT2K8wjol7DGpcaOQrMK6uvnnVd3s6zUbDIZaVdmhXetJldbqD1SK8CFIYAz+4wBdUMwI/x0pnPWTRfsFcbRIJRq3/WZGMqnBCfsXziY1adGoPOF441rO+mcjs+tBFKE+j49FKkX4Q98yCZklQmj2osWkILhqt7Sbn9azyZLW5mPMjKTMgdsOE2NdxoG4wagmrAEjhOYuX0tqOB5BCtvMrzKN7LZw8Qh6ccoTk6dHnKPLUlDsDnSfKpenvznM29N+XkFLYMS8idO6GckGPV9NoDV0UiMmdNS6U6somuwsgr0YLFVgJPne8hnbHWRFCPFxGGOwDdgbMmiiu0K8Qh3umIDn/9//hZUc+8qQFRL/BwEhqjLYyBrMeSgin+bnoCTuBWteQUrRC+LLbhTGsH0HYHaQgamyyBr5kDe1FelGYQxLZ8mqavLbvB30qI/zCLF99cHPjJTUdXcaDFaGBn2JZqPsCj+GSFJ5xgbJHfAL8Gk/Fe+lK8qX+3qH7US0mO0HJetxjuS529kB13kZcH/zxlmkIAHHPYDxO3/0arJvzdXNHzCWXsbWAcnK3Teb/xMh9Nr7wdQR7Ocp5WC3FroNXuSNEFqbfJYfVJUdd6/86D3/bahN8Zuj+McmQhv8FG9RTKpRQIK9M3LDxmFTh0qDAB7Qk3XTo1WdRdHzGMnpuLjPxSOo1jBoMIoYE48FeaRsiI7KtDfWZ8PFAaNR6Cd7ibdwm0dsBpW9PDFOK1PXEHrTOQBURMY8x19G0WK8db2trbXdaItekKS7vb2ttV3auW0nXFsrucsSOf7+gKED7o522zzfyTi0i6LnDdXQbcd7+JBoL01gxGlAXyEVc+h+GFjRy1n/LGwJhi23hHALuoj3DhHSUZcJgg52a7esWp5XTZY7oAiTd+WaSq1SXTkZsnCbvqch0H3q0Tzl4QKS0GOMaxUf8EHD9hsnyllpcoTrlOfAMctWTCeKiL8MOQAPTfKVA+njHz4ksKALdJ9a1kYq9JBjJWZkRi3x2Zj2A4wJDHXPkQOrX375YDFJHIE+/fXvyTErF25SEG4KeZ7PsqPmHrJVxhr/yW+yhkWH8A1lMZ3kIfL9jxNwdgXdun+b5u0/f4H/r222VU9AUf+pRbp5rc5h/QY+egwgQZEAgSJ383ML4r430j854pUsWkhqLg5tHCZ/xDfYa+QpeHvpPqnCw79pbfN/rnQj/7MH2EVs7cn526kBGw2MCSRgU3FQbOoij1/zfz1oM/LIJ/3NO7ce5hO74R5vLj3g+SopIA73gPO6UwOj0sBYQQJjnBu/YfmHH26JPzGm9nqzoX6EIDgqXTgfdmoAY+f/4+S0AqcGbDUwhlHCdiDnmVMDj4YGnJB4NObJKeW4acAJiXFTtXOgR0MDTkg8GvPklHLcNOCExLip2jnQo6GB/wXpi/Mn0aAhnQAAAABJRU5ErkJggg==)\n",
        "\n",
        "![image.png](data:image/png;base64,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)\n"
      ]
    },
    {
      "cell_type": "code",
      "execution_count": null,
      "metadata": {
        "id": "ipuxj7v3efwG"
      },
      "outputs": [],
      "source": [
        "class PositionalEncoding(nn.Module):\n",
        "    def __init__(self, d_model, max_seq_length):\n",
        "        super(PositionalEncoding, self).__init__()\n",
        "        \n",
        "        pe = torch.zeros(max_seq_length, d_model)\n",
        "        position = torch.arange(0, max_seq_length, dtype=torch.float).unsqueeze(1)\n",
        "        div_term = torch.exp(torch.arange(0, d_model, 2).float() * -(math.log(10000.0) / d_model))\n",
        "        \n",
        "        pe[:, 0::2] = torch.sin(position * div_term)\n",
        "        pe[:, 1::2] = torch.cos(position * div_term)\n",
        "        \n",
        "        self.register_buffer('pe', pe.unsqueeze(0))\n",
        "        \n",
        "    def forward(self, x):\n",
        "        return x + self.pe[:, :x.size(1)]"
      ]
    },
    {
      "cell_type": "markdown",
      "metadata": {},
      "source": [
        "**Encoder Blocks**"
      ]
    },
    {
      "cell_type": "code",
      "execution_count": null,
      "metadata": {},
      "outputs": [],
      "source": [
        "class EncoderLayer(nn.Module):\n",
        "    def __init__(self, d_model, num_heads, d_ff, dropout):\n",
        "        super(EncoderLayer, self).__init__()\n",
        "        self.self_attn = MultiHeadAttention(d_model, num_heads)\n",
        "        self.feed_forward = PositionWiseFeedForward(d_model, d_ff)\n",
        "        self.norm1 = nn.LayerNorm(d_model)\n",
        "        self.norm2 = nn.LayerNorm(d_model)\n",
        "        self.dropout = nn.Dropout(dropout)\n",
        "        \n",
        "    def forward(self, x, mask):\n",
        "        attn_output = self.self_attn(x, x, x, mask)\n",
        "        add1 = x + self.dropout(attn_output)\n",
        "        x = self.norm1(add1)\n",
        "        ff_output = self.feed_forward(x)\n",
        "        add2 = x + self.dropout(ff_output)\n",
        "        x = self.norm2(add2)\n",
        "        return x"
      ]
    }
  ],
  "metadata": {
    "colab": {
      "provenance": []
    },
    "kernelspec": {
      "display_name": "Python 3",
      "name": "python3"
    },
    "language_info": {
      "name": "python"
    }
  },
  "nbformat": 4,
  "nbformat_minor": 0
}
